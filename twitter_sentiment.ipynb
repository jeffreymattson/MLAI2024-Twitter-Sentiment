{
 "cells": [
  {
   "cell_type": "code",
   "execution_count": 76,
   "id": "eb76fa8c-e20b-43ca-88db-d72ab947122e",
   "metadata": {},
   "outputs": [],
   "source": [
    "import pandas as pd\n",
    "import re\n",
    "import string\n",
    "import nltk\n",
    "from nltk.corpus import stopwords\n",
    "from nltk.stem import WordNetLemmatizer\n",
    "from nltk.stem import PorterStemmer\n",
    "from sklearn.feature_extraction.text import CountVectorizer\n",
    "from sklearn.model_selection import train_test_split, GridSearchCV, cross_val_score\n",
    "from sklearn.feature_extraction.text import TfidfVectorizer\n",
    "from sklearn.linear_model import LogisticRegression\n",
    "from sklearn.naive_bayes import MultinomialNB\n",
    "from sklearn.svm import SVC\n",
    "from sklearn.ensemble import RandomForestClassifier, StackingClassifier\n",
    "from sklearn.metrics import accuracy_score, precision_score, recall_score, f1_score, classification_report\n"
   ]
  },
  {
   "cell_type": "code",
   "execution_count": 6,
   "id": "88d004c6-63f0-4d1e-9056-732b12c30659",
   "metadata": {},
   "outputs": [],
   "source": [
    "df = pd.read_csv('data/train.csv', encoding='Windows-1252')"
   ]
  },
  {
   "cell_type": "code",
   "execution_count": 5,
   "id": "a0344f1d-7670-4146-9f26-0540baca6dc6",
   "metadata": {},
   "outputs": [
    {
     "data": {
      "text/plain": [
       "{'encoding': 'Windows-1252', 'confidence': 0.7290615013529563, 'language': ''}"
      ]
     },
     "execution_count": 5,
     "metadata": {},
     "output_type": "execute_result"
    }
   ],
   "source": [
    "import chardet\n",
    "with open('data/train.csv', 'rb') as rawdata:\n",
    "    result = chardet.detect(rawdata.read(100000))\n",
    "result"
   ]
  },
  {
   "cell_type": "code",
   "execution_count": 27,
   "id": "66f55758-7556-4dd1-8eef-d3b2743b00e2",
   "metadata": {},
   "outputs": [
    {
     "data": {
      "text/html": [
       "<div>\n",
       "<style scoped>\n",
       "    .dataframe tbody tr th:only-of-type {\n",
       "        vertical-align: middle;\n",
       "    }\n",
       "\n",
       "    .dataframe tbody tr th {\n",
       "        vertical-align: top;\n",
       "    }\n",
       "\n",
       "    .dataframe thead th {\n",
       "        text-align: right;\n",
       "    }\n",
       "</style>\n",
       "<table border=\"1\" class=\"dataframe\">\n",
       "  <thead>\n",
       "    <tr style=\"text-align: right;\">\n",
       "      <th></th>\n",
       "      <th>ItemID</th>\n",
       "      <th>Sentiment</th>\n",
       "      <th>SentimentText</th>\n",
       "      <th>cleaned_text</th>\n",
       "    </tr>\n",
       "  </thead>\n",
       "  <tbody>\n",
       "    <tr>\n",
       "      <th>0</th>\n",
       "      <td>1</td>\n",
       "      <td>0</td>\n",
       "      <td>is so sad for my APL frie...</td>\n",
       "      <td>sad apl friend</td>\n",
       "    </tr>\n",
       "    <tr>\n",
       "      <th>1</th>\n",
       "      <td>2</td>\n",
       "      <td>0</td>\n",
       "      <td>I missed the New Moon trail...</td>\n",
       "      <td>miss new moon trailer</td>\n",
       "    </tr>\n",
       "    <tr>\n",
       "      <th>2</th>\n",
       "      <td>3</td>\n",
       "      <td>1</td>\n",
       "      <td>omg its already 7:30 :O</td>\n",
       "      <td>omg alreadi</td>\n",
       "    </tr>\n",
       "    <tr>\n",
       "      <th>3</th>\n",
       "      <td>4</td>\n",
       "      <td>0</td>\n",
       "      <td>.. Omgaga. Im sooo  im gunna CRy. I'...</td>\n",
       "      <td>omgaga im sooo im gunna cri ive dentist sinc s...</td>\n",
       "    </tr>\n",
       "    <tr>\n",
       "      <th>4</th>\n",
       "      <td>5</td>\n",
       "      <td>0</td>\n",
       "      <td>i think mi bf is cheating on me!!!   ...</td>\n",
       "      <td>think mi bf cheat tt</td>\n",
       "    </tr>\n",
       "    <tr>\n",
       "      <th>5</th>\n",
       "      <td>6</td>\n",
       "      <td>0</td>\n",
       "      <td>or i just worry too much?</td>\n",
       "      <td>worri much</td>\n",
       "    </tr>\n",
       "    <tr>\n",
       "      <th>6</th>\n",
       "      <td>7</td>\n",
       "      <td>1</td>\n",
       "      <td>Juuuuuuuuuuuuuuuuussssst Chillin!!</td>\n",
       "      <td>juuuuuuuuuuuuuuuuussssst chillin</td>\n",
       "    </tr>\n",
       "    <tr>\n",
       "      <th>7</th>\n",
       "      <td>8</td>\n",
       "      <td>0</td>\n",
       "      <td>Sunny Again        Work Tomorrow  :-|  ...</td>\n",
       "      <td>sunni work tomorrow tv tonight</td>\n",
       "    </tr>\n",
       "    <tr>\n",
       "      <th>8</th>\n",
       "      <td>9</td>\n",
       "      <td>1</td>\n",
       "      <td>handed in my uniform today . i miss you ...</td>\n",
       "      <td>hand uniform today miss alreadi</td>\n",
       "    </tr>\n",
       "    <tr>\n",
       "      <th>9</th>\n",
       "      <td>10</td>\n",
       "      <td>1</td>\n",
       "      <td>hmmmm.... i wonder how she my number @-)</td>\n",
       "      <td>hmmmm wonder number</td>\n",
       "    </tr>\n",
       "    <tr>\n",
       "      <th>10</th>\n",
       "      <td>11</td>\n",
       "      <td>0</td>\n",
       "      <td>I must think about positive..</td>\n",
       "      <td>must think posit</td>\n",
       "    </tr>\n",
       "    <tr>\n",
       "      <th>11</th>\n",
       "      <td>12</td>\n",
       "      <td>1</td>\n",
       "      <td>thanks to all the haters up in my face a...</td>\n",
       "      <td>thank hater face day</td>\n",
       "    </tr>\n",
       "    <tr>\n",
       "      <th>12</th>\n",
       "      <td>13</td>\n",
       "      <td>0</td>\n",
       "      <td>this weekend has sucked so far</td>\n",
       "      <td>weekend suck far</td>\n",
       "    </tr>\n",
       "    <tr>\n",
       "      <th>13</th>\n",
       "      <td>14</td>\n",
       "      <td>0</td>\n",
       "      <td>jb isnt showing in australia any more!</td>\n",
       "      <td>jb isnt show australia</td>\n",
       "    </tr>\n",
       "    <tr>\n",
       "      <th>14</th>\n",
       "      <td>15</td>\n",
       "      <td>0</td>\n",
       "      <td>ok thats it you win.</td>\n",
       "      <td>ok win</td>\n",
       "    </tr>\n",
       "    <tr>\n",
       "      <th>15</th>\n",
       "      <td>16</td>\n",
       "      <td>0</td>\n",
       "      <td>&amp;lt;-------- This is the way i feel right ...</td>\n",
       "      <td>lt way feel right</td>\n",
       "    </tr>\n",
       "    <tr>\n",
       "      <th>16</th>\n",
       "      <td>17</td>\n",
       "      <td>0</td>\n",
       "      <td>awhhe man.... I'm completely useless rt no...</td>\n",
       "      <td>awhh man im complet useless rt funni twitter</td>\n",
       "    </tr>\n",
       "    <tr>\n",
       "      <th>17</th>\n",
       "      <td>18</td>\n",
       "      <td>1</td>\n",
       "      <td>Feeling strangely fine. Now I'm gonna go l...</td>\n",
       "      <td>feel strang fine im gonna go listen semison ce...</td>\n",
       "    </tr>\n",
       "    <tr>\n",
       "      <th>18</th>\n",
       "      <td>19</td>\n",
       "      <td>0</td>\n",
       "      <td>HUGE roll of thunder just now...SO scary!!!!</td>\n",
       "      <td>huge roll thunder nowso scari</td>\n",
       "    </tr>\n",
       "    <tr>\n",
       "      <th>19</th>\n",
       "      <td>20</td>\n",
       "      <td>0</td>\n",
       "      <td>I just cut my beard off. It's only been gr...</td>\n",
       "      <td>cut beard grow well year im gonna start happi ...</td>\n",
       "    </tr>\n",
       "    <tr>\n",
       "      <th>20</th>\n",
       "      <td>21</td>\n",
       "      <td>0</td>\n",
       "      <td>Very sad about Iran.</td>\n",
       "      <td>sad iran</td>\n",
       "    </tr>\n",
       "    <tr>\n",
       "      <th>21</th>\n",
       "      <td>22</td>\n",
       "      <td>0</td>\n",
       "      <td>wompppp wompp</td>\n",
       "      <td>wompppp wompp</td>\n",
       "    </tr>\n",
       "    <tr>\n",
       "      <th>22</th>\n",
       "      <td>23</td>\n",
       "      <td>1</td>\n",
       "      <td>You're the only one who can see this cause...</td>\n",
       "      <td>one see caus one el follow pretti awesom</td>\n",
       "    </tr>\n",
       "    <tr>\n",
       "      <th>23</th>\n",
       "      <td>24</td>\n",
       "      <td>0</td>\n",
       "      <td>&amp;lt;---Sad level is 3. I was writing a mass...</td>\n",
       "      <td>ltsad level write massiv blog tweet myspac com...</td>\n",
       "    </tr>\n",
       "    <tr>\n",
       "      <th>24</th>\n",
       "      <td>25</td>\n",
       "      <td>0</td>\n",
       "      <td>...  Headed to Hospitol : Had to pull out o...</td>\n",
       "      <td>head hospitol pull golf tourni rd place think ...</td>\n",
       "    </tr>\n",
       "    <tr>\n",
       "      <th>25</th>\n",
       "      <td>26</td>\n",
       "      <td>0</td>\n",
       "      <td>BoRinG   ): whats wrong with him??     Plea...</td>\n",
       "      <td>bore wrong plea tell</td>\n",
       "    </tr>\n",
       "    <tr>\n",
       "      <th>26</th>\n",
       "      <td>27</td>\n",
       "      <td>0</td>\n",
       "      <td>can't be bothered. i wish i could spend the...</td>\n",
       "      <td>cant bother wish could spend rest life sat go ...</td>\n",
       "    </tr>\n",
       "    <tr>\n",
       "      <th>27</th>\n",
       "      <td>28</td>\n",
       "      <td>0</td>\n",
       "      <td>Feeeling like shit right now. I really want...</td>\n",
       "      <td>feeel like shit right realli want sleep nooo h...</td>\n",
       "    </tr>\n",
       "    <tr>\n",
       "      <th>28</th>\n",
       "      <td>29</td>\n",
       "      <td>1</td>\n",
       "      <td>goodbye exams, HELLO ALCOHOL TONIGHT</td>\n",
       "      <td>goodby exam hello alcohol tonight</td>\n",
       "    </tr>\n",
       "    <tr>\n",
       "      <th>29</th>\n",
       "      <td>30</td>\n",
       "      <td>0</td>\n",
       "      <td>I didn't realize it was THAT deep. Geez giv...</td>\n",
       "      <td>didnt realiz deep geez give girl warn atleast</td>\n",
       "    </tr>\n",
       "    <tr>\n",
       "      <th>30</th>\n",
       "      <td>31</td>\n",
       "      <td>0</td>\n",
       "      <td>I hate it when any athlete appears to tear ...</td>\n",
       "      <td>hate athlet appear tear acl live televis</td>\n",
       "    </tr>\n",
       "    <tr>\n",
       "      <th>31</th>\n",
       "      <td>32</td>\n",
       "      <td>0</td>\n",
       "      <td>i miss you guys too     i think i'm wearing...</td>\n",
       "      <td>miss guy think im wear skinni jean cute sweate...</td>\n",
       "    </tr>\n",
       "    <tr>\n",
       "      <th>32</th>\n",
       "      <td>33</td>\n",
       "      <td>0</td>\n",
       "      <td>-- Meet your Meat http://bit.ly/15SSCI</td>\n",
       "      <td>meet meat</td>\n",
       "    </tr>\n",
       "    <tr>\n",
       "      <th>33</th>\n",
       "      <td>34</td>\n",
       "      <td>0</td>\n",
       "      <td>My horsie is moving on Saturday morning.</td>\n",
       "      <td>horsi move saturday morn</td>\n",
       "    </tr>\n",
       "    <tr>\n",
       "      <th>34</th>\n",
       "      <td>35</td>\n",
       "      <td>0</td>\n",
       "      <td>No Sat off...Need to work 6 days a week</td>\n",
       "      <td>sat offne work day week</td>\n",
       "    </tr>\n",
       "    <tr>\n",
       "      <th>35</th>\n",
       "      <td>36</td>\n",
       "      <td>0</td>\n",
       "      <td>Really Dont Like Doing my Room Its So Borin...</td>\n",
       "      <td>realli dont like room bore sick wardrob cant w...</td>\n",
       "    </tr>\n",
       "    <tr>\n",
       "      <th>36</th>\n",
       "      <td>37</td>\n",
       "      <td>0</td>\n",
       "      <td>SOX!     Floyd was great, but relievers nee...</td>\n",
       "      <td>sox floyd great reliev need scold</td>\n",
       "    </tr>\n",
       "    <tr>\n",
       "      <th>37</th>\n",
       "      <td>38</td>\n",
       "      <td>0</td>\n",
       "      <td>times by like a million</td>\n",
       "      <td>time like million</td>\n",
       "    </tr>\n",
       "    <tr>\n",
       "      <th>38</th>\n",
       "      <td>39</td>\n",
       "      <td>1</td>\n",
       "      <td>uploading pictures on friendster</td>\n",
       "      <td>upload pictur friendster</td>\n",
       "    </tr>\n",
       "    <tr>\n",
       "      <th>39</th>\n",
       "      <td>40</td>\n",
       "      <td>0</td>\n",
       "      <td>what type of a spaz downloads a virus? my b...</td>\n",
       "      <td>type spaz download viru brother msn fuck forev</td>\n",
       "    </tr>\n",
       "    <tr>\n",
       "      <th>40</th>\n",
       "      <td>41</td>\n",
       "      <td>0</td>\n",
       "      <td>&amp;amp;&amp;amp;Fightiin Wiit The Babes...</td>\n",
       "      <td>ampampfightiin wiit babe</td>\n",
       "    </tr>\n",
       "    <tr>\n",
       "      <th>41</th>\n",
       "      <td>42</td>\n",
       "      <td>1</td>\n",
       "      <td>(: !!!!!! - so i wrote something last week. ...</td>\n",
       "      <td>wrote someth last week got call someon new yor...</td>\n",
       "    </tr>\n",
       "    <tr>\n",
       "      <th>42</th>\n",
       "      <td>43</td>\n",
       "      <td>0</td>\n",
       "      <td>*enough said*</td>\n",
       "      <td>enough said</td>\n",
       "    </tr>\n",
       "    <tr>\n",
       "      <th>43</th>\n",
       "      <td>44</td>\n",
       "      <td>1</td>\n",
       "      <td>... Do I need to even say it?  Do I?  Well, ...</td>\n",
       "      <td>need even say well go anyway chri cornel chica...</td>\n",
       "    </tr>\n",
       "    <tr>\n",
       "      <th>44</th>\n",
       "      <td>45</td>\n",
       "      <td>1</td>\n",
       "      <td>... health class (what a joke!)</td>\n",
       "      <td>health class joke</td>\n",
       "    </tr>\n",
       "    <tr>\n",
       "      <th>45</th>\n",
       "      <td>46</td>\n",
       "      <td>1</td>\n",
       "      <td>@ginaaa &amp;lt;3 GO TO THE SHOW TONIGHT</td>\n",
       "      <td>lt go show tonight</td>\n",
       "    </tr>\n",
       "    <tr>\n",
       "      <th>46</th>\n",
       "      <td>47</td>\n",
       "      <td>0</td>\n",
       "      <td>@Spiral_galaxy @YMPtweet  it really makes me...</td>\n",
       "      <td>realli make sad look muslim realiti</td>\n",
       "    </tr>\n",
       "    <tr>\n",
       "      <th>47</th>\n",
       "      <td>48</td>\n",
       "      <td>0</td>\n",
       "      <td>- All Time Low shall be my motivation for the...</td>\n",
       "      <td>time low shall motiv rest week</td>\n",
       "    </tr>\n",
       "    <tr>\n",
       "      <th>48</th>\n",
       "      <td>49</td>\n",
       "      <td>0</td>\n",
       "      <td>and the entertainment is over, someone compl...</td>\n",
       "      <td>entertain someon complain properli experiment ...</td>\n",
       "    </tr>\n",
       "    <tr>\n",
       "      <th>49</th>\n",
       "      <td>50</td>\n",
       "      <td>0</td>\n",
       "      <td>another year of Lakers .. That's neither mag...</td>\n",
       "      <td>anoth year laker neither magic fun</td>\n",
       "    </tr>\n",
       "  </tbody>\n",
       "</table>\n",
       "</div>"
      ],
      "text/plain": [
       "    ItemID  Sentiment                                      SentimentText  \\\n",
       "0        1          0                       is so sad for my APL frie...   \n",
       "1        2          0                     I missed the New Moon trail...   \n",
       "2        3          1                            omg its already 7:30 :O   \n",
       "3        4          0            .. Omgaga. Im sooo  im gunna CRy. I'...   \n",
       "4        5          0           i think mi bf is cheating on me!!!   ...   \n",
       "5        6          0                  or i just worry too much?           \n",
       "6        7          1                 Juuuuuuuuuuuuuuuuussssst Chillin!!   \n",
       "7        8          0         Sunny Again        Work Tomorrow  :-|  ...   \n",
       "8        9          1        handed in my uniform today . i miss you ...   \n",
       "9       10          1           hmmmm.... i wonder how she my number @-)   \n",
       "10      11          0                      I must think about positive..   \n",
       "11      12          1        thanks to all the haters up in my face a...   \n",
       "12      13          0                     this weekend has sucked so far   \n",
       "13      14          0             jb isnt showing in australia any more!   \n",
       "14      15          0                               ok thats it you win.   \n",
       "15      16          0      &lt;-------- This is the way i feel right ...   \n",
       "16      17          0      awhhe man.... I'm completely useless rt no...   \n",
       "17      18          1      Feeling strangely fine. Now I'm gonna go l...   \n",
       "18      19          0       HUGE roll of thunder just now...SO scary!!!!   \n",
       "19      20          0      I just cut my beard off. It's only been gr...   \n",
       "20      21          0                               Very sad about Iran.   \n",
       "21      22          0                                      wompppp wompp   \n",
       "22      23          1      You're the only one who can see this cause...   \n",
       "23      24          0     &lt;---Sad level is 3. I was writing a mass...   \n",
       "24      25          0     ...  Headed to Hospitol : Had to pull out o...   \n",
       "25      26          0     BoRinG   ): whats wrong with him??     Plea...   \n",
       "26      27          0     can't be bothered. i wish i could spend the...   \n",
       "27      28          0     Feeeling like shit right now. I really want...   \n",
       "28      29          1              goodbye exams, HELLO ALCOHOL TONIGHT    \n",
       "29      30          0     I didn't realize it was THAT deep. Geez giv...   \n",
       "30      31          0     I hate it when any athlete appears to tear ...   \n",
       "31      32          0     i miss you guys too     i think i'm wearing...   \n",
       "32      33          0             -- Meet your Meat http://bit.ly/15SSCI   \n",
       "33      34          0           My horsie is moving on Saturday morning.   \n",
       "34      35          0           No Sat off...Need to work 6 days a week    \n",
       "35      36          0     Really Dont Like Doing my Room Its So Borin...   \n",
       "36      37          0     SOX!     Floyd was great, but relievers nee...   \n",
       "37      38          0                            times by like a million   \n",
       "38      39          1                  uploading pictures on friendster    \n",
       "39      40          0     what type of a spaz downloads a virus? my b...   \n",
       "40      41          0               &amp;&amp;Fightiin Wiit The Babes...   \n",
       "41      42          1    (: !!!!!! - so i wrote something last week. ...   \n",
       "42      43          0                                      *enough said*   \n",
       "43      44          1    ... Do I need to even say it?  Do I?  Well, ...   \n",
       "44      45          1                    ... health class (what a joke!)   \n",
       "45      46          1               @ginaaa &lt;3 GO TO THE SHOW TONIGHT   \n",
       "46      47          0    @Spiral_galaxy @YMPtweet  it really makes me...   \n",
       "47      48          0   - All Time Low shall be my motivation for the...   \n",
       "48      49          0    and the entertainment is over, someone compl...   \n",
       "49      50          0    another year of Lakers .. That's neither mag...   \n",
       "\n",
       "                                         cleaned_text  \n",
       "0                                      sad apl friend  \n",
       "1                               miss new moon trailer  \n",
       "2                                         omg alreadi  \n",
       "3   omgaga im sooo im gunna cri ive dentist sinc s...  \n",
       "4                                think mi bf cheat tt  \n",
       "5                                          worri much  \n",
       "6                    juuuuuuuuuuuuuuuuussssst chillin  \n",
       "7                      sunni work tomorrow tv tonight  \n",
       "8                     hand uniform today miss alreadi  \n",
       "9                                 hmmmm wonder number  \n",
       "10                                   must think posit  \n",
       "11                               thank hater face day  \n",
       "12                                   weekend suck far  \n",
       "13                             jb isnt show australia  \n",
       "14                                             ok win  \n",
       "15                                  lt way feel right  \n",
       "16       awhh man im complet useless rt funni twitter  \n",
       "17  feel strang fine im gonna go listen semison ce...  \n",
       "18                      huge roll thunder nowso scari  \n",
       "19  cut beard grow well year im gonna start happi ...  \n",
       "20                                           sad iran  \n",
       "21                                      wompppp wompp  \n",
       "22           one see caus one el follow pretti awesom  \n",
       "23  ltsad level write massiv blog tweet myspac com...  \n",
       "24  head hospitol pull golf tourni rd place think ...  \n",
       "25                               bore wrong plea tell  \n",
       "26  cant bother wish could spend rest life sat go ...  \n",
       "27  feeel like shit right realli want sleep nooo h...  \n",
       "28                  goodby exam hello alcohol tonight  \n",
       "29      didnt realiz deep geez give girl warn atleast  \n",
       "30           hate athlet appear tear acl live televis  \n",
       "31  miss guy think im wear skinni jean cute sweate...  \n",
       "32                                          meet meat  \n",
       "33                           horsi move saturday morn  \n",
       "34                            sat offne work day week  \n",
       "35  realli dont like room bore sick wardrob cant w...  \n",
       "36                  sox floyd great reliev need scold  \n",
       "37                                  time like million  \n",
       "38                           upload pictur friendster  \n",
       "39     type spaz download viru brother msn fuck forev  \n",
       "40                           ampampfightiin wiit babe  \n",
       "41  wrote someth last week got call someon new yor...  \n",
       "42                                        enough said  \n",
       "43  need even say well go anyway chri cornel chica...  \n",
       "44                                  health class joke  \n",
       "45                                 lt go show tonight  \n",
       "46                realli make sad look muslim realiti  \n",
       "47                     time low shall motiv rest week  \n",
       "48  entertain someon complain properli experiment ...  \n",
       "49                 anoth year laker neither magic fun  "
      ]
     },
     "execution_count": 27,
     "metadata": {},
     "output_type": "execute_result"
    }
   ],
   "source": [
    "df.head(50)"
   ]
  },
  {
   "cell_type": "code",
   "execution_count": 27,
   "id": "96760ba3-e4a8-437b-ad4c-d8245ca465db",
   "metadata": {},
   "outputs": [
    {
     "data": {
      "text/html": [
       "<div>\n",
       "<style scoped>\n",
       "    .dataframe tbody tr th:only-of-type {\n",
       "        vertical-align: middle;\n",
       "    }\n",
       "\n",
       "    .dataframe tbody tr th {\n",
       "        vertical-align: top;\n",
       "    }\n",
       "\n",
       "    .dataframe thead th {\n",
       "        text-align: right;\n",
       "    }\n",
       "</style>\n",
       "<table border=\"1\" class=\"dataframe\">\n",
       "  <thead>\n",
       "    <tr style=\"text-align: right;\">\n",
       "      <th></th>\n",
       "      <th>ItemID</th>\n",
       "      <th>Sentiment</th>\n",
       "      <th>SentimentText</th>\n",
       "      <th>cleaned_text</th>\n",
       "    </tr>\n",
       "  </thead>\n",
       "  <tbody>\n",
       "    <tr>\n",
       "      <th>0</th>\n",
       "      <td>1</td>\n",
       "      <td>0</td>\n",
       "      <td>is so sad for my APL frie...</td>\n",
       "      <td>sad apl friend</td>\n",
       "    </tr>\n",
       "    <tr>\n",
       "      <th>1</th>\n",
       "      <td>2</td>\n",
       "      <td>0</td>\n",
       "      <td>I missed the New Moon trail...</td>\n",
       "      <td>miss new moon trailer</td>\n",
       "    </tr>\n",
       "    <tr>\n",
       "      <th>2</th>\n",
       "      <td>3</td>\n",
       "      <td>1</td>\n",
       "      <td>omg its already 7:30 :O</td>\n",
       "      <td>omg alreadi</td>\n",
       "    </tr>\n",
       "    <tr>\n",
       "      <th>3</th>\n",
       "      <td>4</td>\n",
       "      <td>0</td>\n",
       "      <td>.. Omgaga. Im sooo  im gunna CRy. I'...</td>\n",
       "      <td>omgaga im sooo im gunna cri ive dentist sinc s...</td>\n",
       "    </tr>\n",
       "    <tr>\n",
       "      <th>4</th>\n",
       "      <td>5</td>\n",
       "      <td>0</td>\n",
       "      <td>i think mi bf is cheating on me!!!   ...</td>\n",
       "      <td>think mi bf cheat tt</td>\n",
       "    </tr>\n",
       "    <tr>\n",
       "      <th>5</th>\n",
       "      <td>6</td>\n",
       "      <td>0</td>\n",
       "      <td>or i just worry too much?</td>\n",
       "      <td>worri much</td>\n",
       "    </tr>\n",
       "    <tr>\n",
       "      <th>6</th>\n",
       "      <td>7</td>\n",
       "      <td>1</td>\n",
       "      <td>Juuuuuuuuuuuuuuuuussssst Chillin!!</td>\n",
       "      <td>juuuuuuuuuuuuuuuuussssst chillin</td>\n",
       "    </tr>\n",
       "    <tr>\n",
       "      <th>7</th>\n",
       "      <td>8</td>\n",
       "      <td>0</td>\n",
       "      <td>Sunny Again        Work Tomorrow  :-|  ...</td>\n",
       "      <td>sunni work tomorrow tv tonight</td>\n",
       "    </tr>\n",
       "    <tr>\n",
       "      <th>8</th>\n",
       "      <td>9</td>\n",
       "      <td>1</td>\n",
       "      <td>handed in my uniform today . i miss you ...</td>\n",
       "      <td>hand uniform today miss alreadi</td>\n",
       "    </tr>\n",
       "    <tr>\n",
       "      <th>9</th>\n",
       "      <td>10</td>\n",
       "      <td>1</td>\n",
       "      <td>hmmmm.... i wonder how she my number @-)</td>\n",
       "      <td>hmmmm wonder number</td>\n",
       "    </tr>\n",
       "    <tr>\n",
       "      <th>10</th>\n",
       "      <td>11</td>\n",
       "      <td>0</td>\n",
       "      <td>I must think about positive..</td>\n",
       "      <td>must think posit</td>\n",
       "    </tr>\n",
       "    <tr>\n",
       "      <th>11</th>\n",
       "      <td>12</td>\n",
       "      <td>1</td>\n",
       "      <td>thanks to all the haters up in my face a...</td>\n",
       "      <td>thank hater face day</td>\n",
       "    </tr>\n",
       "    <tr>\n",
       "      <th>12</th>\n",
       "      <td>13</td>\n",
       "      <td>0</td>\n",
       "      <td>this weekend has sucked so far</td>\n",
       "      <td>weekend suck far</td>\n",
       "    </tr>\n",
       "    <tr>\n",
       "      <th>13</th>\n",
       "      <td>14</td>\n",
       "      <td>0</td>\n",
       "      <td>jb isnt showing in australia any more!</td>\n",
       "      <td>jb isnt show australia</td>\n",
       "    </tr>\n",
       "    <tr>\n",
       "      <th>14</th>\n",
       "      <td>15</td>\n",
       "      <td>0</td>\n",
       "      <td>ok thats it you win.</td>\n",
       "      <td>ok win</td>\n",
       "    </tr>\n",
       "    <tr>\n",
       "      <th>15</th>\n",
       "      <td>16</td>\n",
       "      <td>0</td>\n",
       "      <td>&amp;lt;-------- This is the way i feel right ...</td>\n",
       "      <td>lt way feel right</td>\n",
       "    </tr>\n",
       "    <tr>\n",
       "      <th>16</th>\n",
       "      <td>17</td>\n",
       "      <td>0</td>\n",
       "      <td>awhhe man.... I'm completely useless rt no...</td>\n",
       "      <td>awhh man im complet useless rt funni twitter</td>\n",
       "    </tr>\n",
       "    <tr>\n",
       "      <th>17</th>\n",
       "      <td>18</td>\n",
       "      <td>1</td>\n",
       "      <td>Feeling strangely fine. Now I'm gonna go l...</td>\n",
       "      <td>feel strang fine im gonna go listen semison ce...</td>\n",
       "    </tr>\n",
       "    <tr>\n",
       "      <th>18</th>\n",
       "      <td>19</td>\n",
       "      <td>0</td>\n",
       "      <td>HUGE roll of thunder just now...SO scary!!!!</td>\n",
       "      <td>huge roll thunder nowso scari</td>\n",
       "    </tr>\n",
       "    <tr>\n",
       "      <th>19</th>\n",
       "      <td>20</td>\n",
       "      <td>0</td>\n",
       "      <td>I just cut my beard off. It's only been gr...</td>\n",
       "      <td>cut beard grow well year im gonna start happi ...</td>\n",
       "    </tr>\n",
       "    <tr>\n",
       "      <th>20</th>\n",
       "      <td>21</td>\n",
       "      <td>0</td>\n",
       "      <td>Very sad about Iran.</td>\n",
       "      <td>sad iran</td>\n",
       "    </tr>\n",
       "    <tr>\n",
       "      <th>21</th>\n",
       "      <td>22</td>\n",
       "      <td>0</td>\n",
       "      <td>wompppp wompp</td>\n",
       "      <td>wompppp wompp</td>\n",
       "    </tr>\n",
       "    <tr>\n",
       "      <th>22</th>\n",
       "      <td>23</td>\n",
       "      <td>1</td>\n",
       "      <td>You're the only one who can see this cause...</td>\n",
       "      <td>one see caus one el follow pretti awesom</td>\n",
       "    </tr>\n",
       "    <tr>\n",
       "      <th>23</th>\n",
       "      <td>24</td>\n",
       "      <td>0</td>\n",
       "      <td>&amp;lt;---Sad level is 3. I was writing a mass...</td>\n",
       "      <td>ltsad level write massiv blog tweet myspac com...</td>\n",
       "    </tr>\n",
       "    <tr>\n",
       "      <th>24</th>\n",
       "      <td>25</td>\n",
       "      <td>0</td>\n",
       "      <td>...  Headed to Hospitol : Had to pull out o...</td>\n",
       "      <td>head hospitol pull golf tourni rd place think ...</td>\n",
       "    </tr>\n",
       "    <tr>\n",
       "      <th>25</th>\n",
       "      <td>26</td>\n",
       "      <td>0</td>\n",
       "      <td>BoRinG   ): whats wrong with him??     Plea...</td>\n",
       "      <td>bore wrong plea tell</td>\n",
       "    </tr>\n",
       "    <tr>\n",
       "      <th>26</th>\n",
       "      <td>27</td>\n",
       "      <td>0</td>\n",
       "      <td>can't be bothered. i wish i could spend the...</td>\n",
       "      <td>cant bother wish could spend rest life sat go ...</td>\n",
       "    </tr>\n",
       "    <tr>\n",
       "      <th>27</th>\n",
       "      <td>28</td>\n",
       "      <td>0</td>\n",
       "      <td>Feeeling like shit right now. I really want...</td>\n",
       "      <td>feeel like shit right realli want sleep nooo h...</td>\n",
       "    </tr>\n",
       "    <tr>\n",
       "      <th>28</th>\n",
       "      <td>29</td>\n",
       "      <td>1</td>\n",
       "      <td>goodbye exams, HELLO ALCOHOL TONIGHT</td>\n",
       "      <td>goodby exam hello alcohol tonight</td>\n",
       "    </tr>\n",
       "    <tr>\n",
       "      <th>29</th>\n",
       "      <td>30</td>\n",
       "      <td>0</td>\n",
       "      <td>I didn't realize it was THAT deep. Geez giv...</td>\n",
       "      <td>didnt realiz deep geez give girl warn atleast</td>\n",
       "    </tr>\n",
       "    <tr>\n",
       "      <th>30</th>\n",
       "      <td>31</td>\n",
       "      <td>0</td>\n",
       "      <td>I hate it when any athlete appears to tear ...</td>\n",
       "      <td>hate athlet appear tear acl live televis</td>\n",
       "    </tr>\n",
       "    <tr>\n",
       "      <th>31</th>\n",
       "      <td>32</td>\n",
       "      <td>0</td>\n",
       "      <td>i miss you guys too     i think i'm wearing...</td>\n",
       "      <td>miss guy think im wear skinni jean cute sweate...</td>\n",
       "    </tr>\n",
       "    <tr>\n",
       "      <th>32</th>\n",
       "      <td>33</td>\n",
       "      <td>0</td>\n",
       "      <td>-- Meet your Meat http://bit.ly/15SSCI</td>\n",
       "      <td>meet meat</td>\n",
       "    </tr>\n",
       "    <tr>\n",
       "      <th>33</th>\n",
       "      <td>34</td>\n",
       "      <td>0</td>\n",
       "      <td>My horsie is moving on Saturday morning.</td>\n",
       "      <td>horsi move saturday morn</td>\n",
       "    </tr>\n",
       "    <tr>\n",
       "      <th>34</th>\n",
       "      <td>35</td>\n",
       "      <td>0</td>\n",
       "      <td>No Sat off...Need to work 6 days a week</td>\n",
       "      <td>sat offne work day week</td>\n",
       "    </tr>\n",
       "    <tr>\n",
       "      <th>35</th>\n",
       "      <td>36</td>\n",
       "      <td>0</td>\n",
       "      <td>Really Dont Like Doing my Room Its So Borin...</td>\n",
       "      <td>realli dont like room bore sick wardrob cant w...</td>\n",
       "    </tr>\n",
       "    <tr>\n",
       "      <th>36</th>\n",
       "      <td>37</td>\n",
       "      <td>0</td>\n",
       "      <td>SOX!     Floyd was great, but relievers nee...</td>\n",
       "      <td>sox floyd great reliev need scold</td>\n",
       "    </tr>\n",
       "    <tr>\n",
       "      <th>37</th>\n",
       "      <td>38</td>\n",
       "      <td>0</td>\n",
       "      <td>times by like a million</td>\n",
       "      <td>time like million</td>\n",
       "    </tr>\n",
       "    <tr>\n",
       "      <th>38</th>\n",
       "      <td>39</td>\n",
       "      <td>1</td>\n",
       "      <td>uploading pictures on friendster</td>\n",
       "      <td>upload pictur friendster</td>\n",
       "    </tr>\n",
       "    <tr>\n",
       "      <th>39</th>\n",
       "      <td>40</td>\n",
       "      <td>0</td>\n",
       "      <td>what type of a spaz downloads a virus? my b...</td>\n",
       "      <td>type spaz download viru brother msn fuck forev</td>\n",
       "    </tr>\n",
       "    <tr>\n",
       "      <th>40</th>\n",
       "      <td>41</td>\n",
       "      <td>0</td>\n",
       "      <td>&amp;amp;&amp;amp;Fightiin Wiit The Babes...</td>\n",
       "      <td>ampampfightiin wiit babe</td>\n",
       "    </tr>\n",
       "    <tr>\n",
       "      <th>41</th>\n",
       "      <td>42</td>\n",
       "      <td>1</td>\n",
       "      <td>(: !!!!!! - so i wrote something last week. ...</td>\n",
       "      <td>wrote someth last week got call someon new yor...</td>\n",
       "    </tr>\n",
       "    <tr>\n",
       "      <th>42</th>\n",
       "      <td>43</td>\n",
       "      <td>0</td>\n",
       "      <td>*enough said*</td>\n",
       "      <td>enough said</td>\n",
       "    </tr>\n",
       "    <tr>\n",
       "      <th>43</th>\n",
       "      <td>44</td>\n",
       "      <td>1</td>\n",
       "      <td>... Do I need to even say it?  Do I?  Well, ...</td>\n",
       "      <td>need even say well go anyway chri cornel chica...</td>\n",
       "    </tr>\n",
       "    <tr>\n",
       "      <th>44</th>\n",
       "      <td>45</td>\n",
       "      <td>1</td>\n",
       "      <td>... health class (what a joke!)</td>\n",
       "      <td>health class joke</td>\n",
       "    </tr>\n",
       "    <tr>\n",
       "      <th>45</th>\n",
       "      <td>46</td>\n",
       "      <td>1</td>\n",
       "      <td>@ginaaa &amp;lt;3 GO TO THE SHOW TONIGHT</td>\n",
       "      <td>lt go show tonight</td>\n",
       "    </tr>\n",
       "    <tr>\n",
       "      <th>46</th>\n",
       "      <td>47</td>\n",
       "      <td>0</td>\n",
       "      <td>@Spiral_galaxy @YMPtweet  it really makes me...</td>\n",
       "      <td>realli make sad look muslim realiti</td>\n",
       "    </tr>\n",
       "    <tr>\n",
       "      <th>47</th>\n",
       "      <td>48</td>\n",
       "      <td>0</td>\n",
       "      <td>- All Time Low shall be my motivation for the...</td>\n",
       "      <td>time low shall motiv rest week</td>\n",
       "    </tr>\n",
       "    <tr>\n",
       "      <th>48</th>\n",
       "      <td>49</td>\n",
       "      <td>0</td>\n",
       "      <td>and the entertainment is over, someone compl...</td>\n",
       "      <td>entertain someon complain properli experiment ...</td>\n",
       "    </tr>\n",
       "    <tr>\n",
       "      <th>49</th>\n",
       "      <td>50</td>\n",
       "      <td>0</td>\n",
       "      <td>another year of Lakers .. That's neither mag...</td>\n",
       "      <td>anoth year laker neither magic fun</td>\n",
       "    </tr>\n",
       "  </tbody>\n",
       "</table>\n",
       "</div>"
      ],
      "text/plain": [
       "    ItemID  Sentiment                                      SentimentText  \\\n",
       "0        1          0                       is so sad for my APL frie...   \n",
       "1        2          0                     I missed the New Moon trail...   \n",
       "2        3          1                            omg its already 7:30 :O   \n",
       "3        4          0            .. Omgaga. Im sooo  im gunna CRy. I'...   \n",
       "4        5          0           i think mi bf is cheating on me!!!   ...   \n",
       "5        6          0                  or i just worry too much?           \n",
       "6        7          1                 Juuuuuuuuuuuuuuuuussssst Chillin!!   \n",
       "7        8          0         Sunny Again        Work Tomorrow  :-|  ...   \n",
       "8        9          1        handed in my uniform today . i miss you ...   \n",
       "9       10          1           hmmmm.... i wonder how she my number @-)   \n",
       "10      11          0                      I must think about positive..   \n",
       "11      12          1        thanks to all the haters up in my face a...   \n",
       "12      13          0                     this weekend has sucked so far   \n",
       "13      14          0             jb isnt showing in australia any more!   \n",
       "14      15          0                               ok thats it you win.   \n",
       "15      16          0      &lt;-------- This is the way i feel right ...   \n",
       "16      17          0      awhhe man.... I'm completely useless rt no...   \n",
       "17      18          1      Feeling strangely fine. Now I'm gonna go l...   \n",
       "18      19          0       HUGE roll of thunder just now...SO scary!!!!   \n",
       "19      20          0      I just cut my beard off. It's only been gr...   \n",
       "20      21          0                               Very sad about Iran.   \n",
       "21      22          0                                      wompppp wompp   \n",
       "22      23          1      You're the only one who can see this cause...   \n",
       "23      24          0     &lt;---Sad level is 3. I was writing a mass...   \n",
       "24      25          0     ...  Headed to Hospitol : Had to pull out o...   \n",
       "25      26          0     BoRinG   ): whats wrong with him??     Plea...   \n",
       "26      27          0     can't be bothered. i wish i could spend the...   \n",
       "27      28          0     Feeeling like shit right now. I really want...   \n",
       "28      29          1              goodbye exams, HELLO ALCOHOL TONIGHT    \n",
       "29      30          0     I didn't realize it was THAT deep. Geez giv...   \n",
       "30      31          0     I hate it when any athlete appears to tear ...   \n",
       "31      32          0     i miss you guys too     i think i'm wearing...   \n",
       "32      33          0             -- Meet your Meat http://bit.ly/15SSCI   \n",
       "33      34          0           My horsie is moving on Saturday morning.   \n",
       "34      35          0           No Sat off...Need to work 6 days a week    \n",
       "35      36          0     Really Dont Like Doing my Room Its So Borin...   \n",
       "36      37          0     SOX!     Floyd was great, but relievers nee...   \n",
       "37      38          0                            times by like a million   \n",
       "38      39          1                  uploading pictures on friendster    \n",
       "39      40          0     what type of a spaz downloads a virus? my b...   \n",
       "40      41          0               &amp;&amp;Fightiin Wiit The Babes...   \n",
       "41      42          1    (: !!!!!! - so i wrote something last week. ...   \n",
       "42      43          0                                      *enough said*   \n",
       "43      44          1    ... Do I need to even say it?  Do I?  Well, ...   \n",
       "44      45          1                    ... health class (what a joke!)   \n",
       "45      46          1               @ginaaa &lt;3 GO TO THE SHOW TONIGHT   \n",
       "46      47          0    @Spiral_galaxy @YMPtweet  it really makes me...   \n",
       "47      48          0   - All Time Low shall be my motivation for the...   \n",
       "48      49          0    and the entertainment is over, someone compl...   \n",
       "49      50          0    another year of Lakers .. That's neither mag...   \n",
       "\n",
       "                                         cleaned_text  \n",
       "0                                      sad apl friend  \n",
       "1                               miss new moon trailer  \n",
       "2                                         omg alreadi  \n",
       "3   omgaga im sooo im gunna cri ive dentist sinc s...  \n",
       "4                                think mi bf cheat tt  \n",
       "5                                          worri much  \n",
       "6                    juuuuuuuuuuuuuuuuussssst chillin  \n",
       "7                      sunni work tomorrow tv tonight  \n",
       "8                     hand uniform today miss alreadi  \n",
       "9                                 hmmmm wonder number  \n",
       "10                                   must think posit  \n",
       "11                               thank hater face day  \n",
       "12                                   weekend suck far  \n",
       "13                             jb isnt show australia  \n",
       "14                                             ok win  \n",
       "15                                  lt way feel right  \n",
       "16       awhh man im complet useless rt funni twitter  \n",
       "17  feel strang fine im gonna go listen semison ce...  \n",
       "18                      huge roll thunder nowso scari  \n",
       "19  cut beard grow well year im gonna start happi ...  \n",
       "20                                           sad iran  \n",
       "21                                      wompppp wompp  \n",
       "22           one see caus one el follow pretti awesom  \n",
       "23  ltsad level write massiv blog tweet myspac com...  \n",
       "24  head hospitol pull golf tourni rd place think ...  \n",
       "25                               bore wrong plea tell  \n",
       "26  cant bother wish could spend rest life sat go ...  \n",
       "27  feeel like shit right realli want sleep nooo h...  \n",
       "28                  goodby exam hello alcohol tonight  \n",
       "29      didnt realiz deep geez give girl warn atleast  \n",
       "30           hate athlet appear tear acl live televis  \n",
       "31  miss guy think im wear skinni jean cute sweate...  \n",
       "32                                          meet meat  \n",
       "33                           horsi move saturday morn  \n",
       "34                            sat offne work day week  \n",
       "35  realli dont like room bore sick wardrob cant w...  \n",
       "36                  sox floyd great reliev need scold  \n",
       "37                                  time like million  \n",
       "38                           upload pictur friendster  \n",
       "39     type spaz download viru brother msn fuck forev  \n",
       "40                           ampampfightiin wiit babe  \n",
       "41  wrote someth last week got call someon new yor...  \n",
       "42                                        enough said  \n",
       "43  need even say well go anyway chri cornel chica...  \n",
       "44                                  health class joke  \n",
       "45                                 lt go show tonight  \n",
       "46                realli make sad look muslim realiti  \n",
       "47                     time low shall motiv rest week  \n",
       "48  entertain someon complain properli experiment ...  \n",
       "49                 anoth year laker neither magic fun  "
      ]
     },
     "execution_count": 27,
     "metadata": {},
     "output_type": "execute_result"
    }
   ],
   "source": [
    "df.head(50)"
   ]
  },
  {
   "cell_type": "code",
   "execution_count": 29,
   "id": "e366815c-09b5-4fa9-addc-fa817f44f459",
   "metadata": {},
   "outputs": [
    {
     "data": {
      "text/plain": [
       "Sentiment\n",
       "1    56457\n",
       "0    43532\n",
       "Name: count, dtype: int64"
      ]
     },
     "execution_count": 29,
     "metadata": {},
     "output_type": "execute_result"
    }
   ],
   "source": [
    "df.Sentiment.value_counts()"
   ]
  },
  {
   "cell_type": "code",
   "execution_count": 12,
   "id": "23ac3638-a821-4af5-a0a8-855cf9b50d95",
   "metadata": {},
   "outputs": [
    {
     "name": "stderr",
     "output_type": "stream",
     "text": [
      "[nltk_data] Downloading package stopwords to\n",
      "[nltk_data]     /Users/jmattson/nltk_data...\n",
      "[nltk_data]   Package stopwords is already up-to-date!\n",
      "[nltk_data] Downloading package wordnet to\n",
      "[nltk_data]     /Users/jmattson/nltk_data...\n",
      "[nltk_data]   Package wordnet is already up-to-date!\n"
     ]
    }
   ],
   "source": [
    "# Download necessary NLTK data files\n",
    "nltk.download('stopwords')\n",
    "nltk.download('wordnet')\n",
    "\n",
    "# Initialize lemmatizer and stopwords\n",
    "lemmatizer = WordNetLemmatizer()\n",
    "stemmer = PorterStemmer()\n",
    "stop_words = set(stopwords.words('english'))\n",
    "\n",
    "def preprocess_text(text):\n",
    "    # Lowercase the text\n",
    "    text = text.lower()\n",
    "    \n",
    "    # Remove URLs\n",
    "    text = re.sub(r'http\\S+|www.\\S+', '', text)\n",
    "    \n",
    "    # Remove mentions and hashtags\n",
    "    text = re.sub(r'@\\w+|#\\w+', '', text)\n",
    "    \n",
    "    # Remove punctuation and numbers\n",
    "    text = re.sub(r'[^a-z\\s]', '', text)\n",
    "    \n",
    "    # Tokenize and remove stopwords\n",
    "    tokens = text.split()\n",
    "    tokens = [stemmer.stem(word) for word in tokens if word not in stop_words]\n",
    "    tokens = [lemmatizer.lemmatize(word) for word in tokens if word not in stop_words]\n",
    "    \n",
    "    # Join tokens back to string\n",
    "    return ' '.join(tokens)\n",
    "\n",
    "# Apply preprocessing to the tweet column\n",
    "df['cleaned_text'] = df['SentimentText'].apply(preprocess_text)"
   ]
  },
  {
   "cell_type": "code",
   "execution_count": 13,
   "id": "7d68d6a5-5cb7-49d1-95b1-1ea98862866c",
   "metadata": {},
   "outputs": [
    {
     "data": {
      "text/html": [
       "<div>\n",
       "<style scoped>\n",
       "    .dataframe tbody tr th:only-of-type {\n",
       "        vertical-align: middle;\n",
       "    }\n",
       "\n",
       "    .dataframe tbody tr th {\n",
       "        vertical-align: top;\n",
       "    }\n",
       "\n",
       "    .dataframe thead th {\n",
       "        text-align: right;\n",
       "    }\n",
       "</style>\n",
       "<table border=\"1\" class=\"dataframe\">\n",
       "  <thead>\n",
       "    <tr style=\"text-align: right;\">\n",
       "      <th></th>\n",
       "      <th>ItemID</th>\n",
       "      <th>Sentiment</th>\n",
       "      <th>SentimentText</th>\n",
       "      <th>cleaned_text</th>\n",
       "    </tr>\n",
       "  </thead>\n",
       "  <tbody>\n",
       "    <tr>\n",
       "      <th>0</th>\n",
       "      <td>1</td>\n",
       "      <td>0</td>\n",
       "      <td>is so sad for my APL frie...</td>\n",
       "      <td>sad apl friend</td>\n",
       "    </tr>\n",
       "    <tr>\n",
       "      <th>1</th>\n",
       "      <td>2</td>\n",
       "      <td>0</td>\n",
       "      <td>I missed the New Moon trail...</td>\n",
       "      <td>miss new moon trailer</td>\n",
       "    </tr>\n",
       "    <tr>\n",
       "      <th>2</th>\n",
       "      <td>3</td>\n",
       "      <td>1</td>\n",
       "      <td>omg its already 7:30 :O</td>\n",
       "      <td>omg alreadi</td>\n",
       "    </tr>\n",
       "    <tr>\n",
       "      <th>3</th>\n",
       "      <td>4</td>\n",
       "      <td>0</td>\n",
       "      <td>.. Omgaga. Im sooo  im gunna CRy. I'...</td>\n",
       "      <td>omgaga im sooo im gunna cri ive dentist sinc s...</td>\n",
       "    </tr>\n",
       "    <tr>\n",
       "      <th>4</th>\n",
       "      <td>5</td>\n",
       "      <td>0</td>\n",
       "      <td>i think mi bf is cheating on me!!!   ...</td>\n",
       "      <td>think mi bf cheat tt</td>\n",
       "    </tr>\n",
       "  </tbody>\n",
       "</table>\n",
       "</div>"
      ],
      "text/plain": [
       "   ItemID  Sentiment                                      SentimentText  \\\n",
       "0       1          0                       is so sad for my APL frie...   \n",
       "1       2          0                     I missed the New Moon trail...   \n",
       "2       3          1                            omg its already 7:30 :O   \n",
       "3       4          0            .. Omgaga. Im sooo  im gunna CRy. I'...   \n",
       "4       5          0           i think mi bf is cheating on me!!!   ...   \n",
       "\n",
       "                                        cleaned_text  \n",
       "0                                     sad apl friend  \n",
       "1                              miss new moon trailer  \n",
       "2                                        omg alreadi  \n",
       "3  omgaga im sooo im gunna cri ive dentist sinc s...  \n",
       "4                               think mi bf cheat tt  "
      ]
     },
     "execution_count": 13,
     "metadata": {},
     "output_type": "execute_result"
    }
   ],
   "source": [
    "df.head()"
   ]
  },
  {
   "cell_type": "code",
   "execution_count": 14,
   "id": "ab22845c-a131-4400-a61d-48b56affe8f7",
   "metadata": {},
   "outputs": [
    {
     "name": "stdout",
     "output_type": "stream",
     "text": [
      "(99989, 5000)\n"
     ]
    }
   ],
   "source": [
    "# Initialize TF-IDF Vectorizer\n",
    "tfidf = TfidfVectorizer(max_features=5000)  # You can adjust max_features as needed\n",
    "\n",
    "# Fit and transform the cleaned text\n",
    "X = tfidf.fit_transform(df['cleaned_text'])\n",
    "y = df['Sentiment']\n",
    "\n",
    "# Display the shape of the feature matrix\n",
    "print(X.shape)"
   ]
  },
  {
   "cell_type": "code",
   "execution_count": 15,
   "id": "76cabe86-141f-4716-a6cd-33143bbd4af9",
   "metadata": {},
   "outputs": [
    {
     "name": "stdout",
     "output_type": "stream",
     "text": [
      "  (0, 1704)\t0.7242755560653328\n",
      "  (0, 3753)\t0.689510637253881\n",
      "  (1, 4497)\t0.6241902949893816\n",
      "  (1, 2851)\t0.5972818352756926\n",
      "  (1, 2948)\t0.37577220424908103\n",
      "  (1, 2806)\t0.3353149793918491\n",
      "  (2, 139)\t0.6924931853628378\n",
      "  (2, 3082)\t0.7214244161560035\n",
      "  (3, 2794)\t0.3110287053159818\n",
      "  (3, 3457)\t0.25900026783904356\n",
      "  (3, 1034)\t0.4191047044013621\n",
      "  (3, 1779)\t0.1610978581945682\n",
      "  (3, 3947)\t0.26422041668595353\n",
      "  (3, 1157)\t0.37937172910268996\n",
      "  (3, 2295)\t0.2203345146545339\n",
      "  (3, 1025)\t0.2710511144751954\n",
      "  (3, 1915)\t0.36356690811121856\n",
      "  (3, 4051)\t0.29684154521955813\n",
      "  (3, 2186)\t0.2802348844778125\n",
      "  (4, 4536)\t0.4955636760053912\n",
      "  (4, 765)\t0.4970527417206438\n",
      "  (4, 446)\t0.46225597523070855\n",
      "  (4, 2767)\t0.48251940412668437\n",
      "  (4, 4387)\t0.24667722427648378\n",
      "  (5, 2878)\t0.5979848911387112\n",
      "  :\t:\n",
      "  (99983, 3574)\t0.24728351721317882\n",
      "  (99983, 1779)\t0.20108571285223667\n",
      "  (99984, 3630)\t0.4982693215208304\n",
      "  (99984, 12)\t0.3844545851548527\n",
      "  (99984, 3831)\t0.35751121324435253\n",
      "  (99984, 3402)\t0.3761599404914765\n",
      "  (99984, 2100)\t0.2598775908486435\n",
      "  (99984, 1601)\t0.3285293207881047\n",
      "  (99984, 2548)\t0.22630155832052826\n",
      "  (99984, 4039)\t0.3285293207881047\n",
      "  (99985, 3632)\t0.4255944617827254\n",
      "  (99985, 1203)\t0.46788213958071695\n",
      "  (99985, 2022)\t0.4487521536687053\n",
      "  (99985, 2184)\t0.31896939324443657\n",
      "  (99985, 4428)\t0.29466884273756133\n",
      "  (99985, 4557)\t0.35260006124382337\n",
      "  (99985, 3828)\t0.2927100241583396\n",
      "  (99986, 4924)\t0.7127065764207351\n",
      "  (99986, 4398)\t0.7014622840371642\n",
      "  (99987, 1802)\t0.43403203608025526\n",
      "  (99987, 4940)\t0.7726120267689907\n",
      "  (99987, 1726)\t0.3903464868002779\n",
      "  (99987, 2186)\t0.2496326661128725\n",
      "  (99988, 4940)\t0.7397842920473956\n",
      "  (99988, 1929)\t0.6728441136250904\n"
     ]
    }
   ],
   "source": [
    "print(X)"
   ]
  },
  {
   "cell_type": "code",
   "execution_count": 33,
   "id": "76d72f2e-e1db-4485-8f40-2cc42c78bdbd",
   "metadata": {},
   "outputs": [
    {
     "name": "stdout",
     "output_type": "stream",
     "text": [
      "Accuracy: 0.7491\n",
      "Precision: 0.7488\n",
      "Recall: 0.7491\n",
      "F1-Score: 0.7463\n",
      "\n",
      "Classification Report:\n",
      "              precision    recall  f1-score   support\n",
      "\n",
      "           0       0.75      0.65      0.69      8750\n",
      "           1       0.75      0.83      0.79     11248\n",
      "\n",
      "    accuracy                           0.75     19998\n",
      "   macro avg       0.75      0.74      0.74     19998\n",
      "weighted avg       0.75      0.75      0.75     19998\n",
      "\n",
      "[0.74042404 0.74877488 0.74922492 0.74417442 0.74261139]\n"
     ]
    }
   ],
   "source": [
    "\n",
    "# Split the data\n",
    "X_train, X_test, y_train, y_test = train_test_split(X, y, test_size=0.2, random_state=42)\n",
    "\n",
    "# Train the classifier\n",
    "clf = LogisticRegression(max_iter=1000)\n",
    "clf.fit(X_train, y_train)\n",
    "\n",
    "# Evaluate the model\n",
    "y_pred = clf.predict(X_test)\n",
    "print(f\"Accuracy: {accuracy_score(y_test, y_pred):.4f}\")\n",
    "print(f\"Precision: {precision_score(y_test, y_pred, average='weighted'):.4f}\")\n",
    "print(f\"Recall: {recall_score(y_test, y_pred, average='weighted'):.4f}\")\n",
    "print(f\"F1-Score: {f1_score(y_test, y_pred, average='weighted'):.4f}\")\n",
    "print(\"\\nClassification Report:\")\n",
    "print(classification_report(y_test, y_pred))\n",
    "\n",
    "# Define a parameter grid for hyperparameter tuning\n",
    "param_grid = {'C': [0.1, 1, 10]}\n",
    "\n",
    "# Perform Grid Search\n",
    "grid_search = GridSearchCV(clf, param_grid, cv=5)\n",
    "nested_scores = cross_val_score(grid_search, X, y, cv=5)\n",
    "print(nested_scores)"
   ]
  },
  {
   "cell_type": "code",
   "execution_count": 74,
   "id": "73137f4a-2a0f-4702-9be3-f2f5923404c9",
   "metadata": {},
   "outputs": [
    {
     "name": "stdout",
     "output_type": "stream",
     "text": [
      "Top Positive Words:\n",
      " ['sweet' 'smile' 'awesom' 'congrat' 'glad' 'enjoy' 'great' 'congratul'\n",
      " 'welcom' 'thank']\n",
      "Top Negative Words:\n",
      " ['sad' 'poor' 'sadli' 'miss' 'suck' 'sorri' 'wish' 'cancel' 'cri' 'sick']\n"
     ]
    }
   ],
   "source": [
    "# Get the feature names (words) from the TF-IDF vectorizer\n",
    "feature_names = np.array(tfidf.get_feature_names_out())\n",
    "\n",
    "# Get the coefficients of the model\n",
    "coefficients = clf.coef_.flatten()\n",
    "\n",
    "# Sort the coefficients by importance\n",
    "top_positive_coefficients = np.argsort(coefficients)[-10:]  # Top 10 positive\n",
    "top_negative_coefficients = np.argsort(coefficients)[:10]   # Top 10 negative\n",
    "\n",
    "# Print the most important positive and negative words\n",
    "print(\"Top Positive Words:\\n\", feature_names[top_positive_coefficients])\n",
    "print(\"Top Negative Words:\\n\", feature_names[top_negative_coefficients])"
   ]
  },
  {
   "cell_type": "code",
   "execution_count": 35,
   "id": "b6d13efe-6d60-4392-a220-48586d9cda2e",
   "metadata": {},
   "outputs": [
    {
     "name": "stdout",
     "output_type": "stream",
     "text": [
      "Naive Bayes Accuracy: 0.7387\n",
      "              precision    recall  f1-score   support\n",
      "\n",
      "           0       0.75      0.60      0.67      8750\n",
      "           1       0.73      0.84      0.78     11248\n",
      "\n",
      "    accuracy                           0.74     19998\n",
      "   macro avg       0.74      0.72      0.73     19998\n",
      "weighted avg       0.74      0.74      0.73     19998\n",
      "\n",
      "[0.73457346 0.73607361 0.73672367 0.73427343 0.73230985]\n"
     ]
    }
   ],
   "source": [
    "# Initialize Naive Bayes classifier\n",
    "nb_clf = MultinomialNB()\n",
    "\n",
    "# Train the classifier\n",
    "nb_clf.fit(X_train, y_train)\n",
    "\n",
    "# Make predictions and evaluate\n",
    "y_pred_nb = nb_clf.predict(X_test)\n",
    "print(f\"Naive Bayes Accuracy: {accuracy_score(y_test, y_pred_nb):.4f}\")\n",
    "print(classification_report(y_test, y_pred_nb))\n",
    "\n",
    "params = {  \n",
    "'alpha': (1, 0.1, 0.01, 0.001, 0.0001, 0.00001)  \n",
    "}  \n",
    "\n",
    "# Perform Grid Search\n",
    "grid_search = GridSearchCV(nb_clf, params, cv=5)\n",
    "nested_scores = cross_val_score(grid_search, X, y, cv=5)\n",
    "print(nested_scores)"
   ]
  },
  {
   "cell_type": "code",
   "execution_count": 42,
   "id": "923363be-c990-43a6-aa7f-d60420840e52",
   "metadata": {},
   "outputs": [
    {
     "name": "stdout",
     "output_type": "stream",
     "text": [
      "SVM Accuracy: 0.7518\n",
      "              precision    recall  f1-score   support\n",
      "\n",
      "           0       0.75      0.64      0.69      8750\n",
      "           1       0.75      0.84      0.79     11248\n",
      "\n",
      "    accuracy                           0.75     19998\n",
      "   macro avg       0.75      0.74      0.74     19998\n",
      "weighted avg       0.75      0.75      0.75     19998\n",
      "\n",
      "[0.74562456 0.75287529 0.75612561 0.75147515 0.74876231]\n"
     ]
    }
   ],
   "source": [
    "# Initialize SVM classifier\n",
    "svm_clf = SVC()\n",
    "\n",
    "# Train the classifier\n",
    "svm_clf.fit(X_train, y_train)\n",
    "\n",
    "# Make predictions and evaluate\n",
    "y_pred_svm = svm_clf.predict(X_test)\n",
    "print(f\"SVM Accuracy: {accuracy_score(y_test, y_pred_svm):.4f}\")\n",
    "print(classification_report(y_test, y_pred_svm))\n",
    "\n",
    "# Define a parameter grid for hyperparameter tuning\n",
    "param_grid = {'C': [0.1, 1, 10]}\n",
    "\n",
    "# Perform Grid Search\n",
    "grid_search = GridSearchCV(svm_clf, param_grid, cv=5)\n",
    "nested_scores = cross_val_score(grid_search, X, y, cv=5)\n",
    "print(nested_scores)"
   ]
  },
  {
   "cell_type": "code",
   "execution_count": 43,
   "id": "9b10547f-4934-4786-9b7a-2e9321279903",
   "metadata": {},
   "outputs": [
    {
     "name": "stdout",
     "output_type": "stream",
     "text": [
      "Random Forest Accuracy: 0.7349\n",
      "              precision    recall  f1-score   support\n",
      "\n",
      "           0       0.71      0.66      0.68      8750\n",
      "           1       0.75      0.79      0.77     11248\n",
      "\n",
      "    accuracy                           0.73     19998\n",
      "   macro avg       0.73      0.73      0.73     19998\n",
      "weighted avg       0.73      0.73      0.73     19998\n",
      "\n",
      "[0.74562456 0.75287529 0.75612561 0.75147515 0.74876231]\n"
     ]
    }
   ],
   "source": [
    "# Initialize Random Forest classifier\n",
    "rf_clf = RandomForestClassifier(n_estimators=100)\n",
    "\n",
    "# Train the classifier\n",
    "rf_clf.fit(X_train, y_train)\n",
    "\n",
    "# Make predictions and evaluate\n",
    "y_pred_rf = rf_clf.predict(X_test)\n",
    "print(f\"Random Forest Accuracy: {accuracy_score(y_test, y_pred_rf):.4f}\")\n",
    "print(classification_report(y_test, y_pred_rf))\n",
    "\n",
    "# Define a parameter grid for hyperparameter tuning\n",
    "param_grid = {'C': [0.1, 1, 10]}\n",
    "\n",
    "# Perform Grid Search\n",
    "grid_search = GridSearchCV(svm_clf, param_grid, cv=5)\n",
    "nested_scores = cross_val_score(grid_search, X, y, cv=5)\n",
    "print(nested_scores)"
   ]
  },
  {
   "cell_type": "code",
   "execution_count": 48,
   "id": "8160b5ff-1ac0-48e7-b7ae-40f6fbfeea70",
   "metadata": {},
   "outputs": [
    {
     "name": "stdout",
     "output_type": "stream",
     "text": [
      "XGBoost Accuracy: 0.7263\n",
      "              precision    recall  f1-score   support\n",
      "\n",
      "           0       0.76      0.55      0.64      8750\n",
      "           1       0.71      0.87      0.78     11248\n",
      "\n",
      "    accuracy                           0.73     19998\n",
      "   macro avg       0.74      0.71      0.71     19998\n",
      "weighted avg       0.73      0.73      0.72     19998\n",
      "\n",
      "[0.74562456 0.75287529 0.75612561 0.75147515 0.74876231]\n"
     ]
    }
   ],
   "source": [
    "import xgboost as xgb\n",
    "\n",
    "# Initialize XGBoost classifier\n",
    "xgb_clf = xgb.XGBClassifier()\n",
    "\n",
    "# Train the classifier\n",
    "xgb_clf.fit(X_train, y_train)\n",
    "\n",
    "# Make predictions and evaluate\n",
    "y_pred_xgb = xgb_clf.predict(X_test)\n",
    "print(f\"XGBoost Accuracy: {accuracy_score(y_test, y_pred_xgb):.4f}\")\n",
    "print(classification_report(y_test, y_pred_xgb))\n",
    "\n",
    "# Define a parameter grid for hyperparameter tuning\n",
    "param_grid = {'C': [0.1, 1, 10]}\n",
    "\n",
    "# Perform Grid Search\n",
    "grid_search = GridSearchCV(svm_clf, param_grid, cv=5)\n",
    "nested_scores = cross_val_score(grid_search, X, y, cv=5)\n",
    "print(nested_scores)"
   ]
  },
  {
   "cell_type": "code",
   "execution_count": 77,
   "id": "fb6a28f4-9c60-4883-ac3d-33aaae8cf3f6",
   "metadata": {},
   "outputs": [
    {
     "name": "stdout",
     "output_type": "stream",
     "text": [
      "Accuracy: 0.7510\n",
      "              precision    recall  f1-score   support\n",
      "\n",
      "           0       0.74      0.66      0.70      8750\n",
      "           1       0.76      0.82      0.79     11248\n",
      "\n",
      "    accuracy                           0.75     19998\n",
      "   macro avg       0.75      0.74      0.74     19998\n",
      "weighted avg       0.75      0.75      0.75     19998\n",
      "\n"
     ]
    }
   ],
   "source": [
    "# Define the base models (level-0 models)\n",
    "base_models = [\n",
    "    ('lr', LogisticRegression(max_iter=1000)),\n",
    "    ('rf', RandomForestClassifier(n_estimators=100, random_state=42)),\n",
    "    ('svm', SVC(probability=True, kernel='linear'))\n",
    "]\n",
    "\n",
    "# Define the meta-model (level-1 model)\n",
    "meta_model = LogisticRegression(max_iter=1000)\n",
    "\n",
    "# Create the StackingClassifier\n",
    "stacking_clf = StackingClassifier(estimators=base_models, final_estimator=meta_model, cv=5)\n",
    "\n",
    "# Train the StackingClassifier\n",
    "stacking_clf.fit(X_train, y_train)\n",
    "\n",
    "# Make predictions on the test set\n",
    "y_pred = stacking_clf.predict(X_test)\n",
    "\n",
    "# Evaluate the model's performance\n",
    "print(f\"Accuracy: {accuracy_score(y_test, y_pred):.4f}\")\n",
    "print(classification_report(y_test, y_pred))"
   ]
  },
  {
   "cell_type": "code",
   "execution_count": 49,
   "id": "354f5ba0-92fb-498d-a415-eedacd0d8fc8",
   "metadata": {},
   "outputs": [
    {
     "name": "stdout",
     "output_type": "stream",
     "text": [
      "Predicted Sentiment: 1\n"
     ]
    }
   ],
   "source": [
    "# Example of a new text field\n",
    "new_text = \"I hate this new product.\"\n",
    "\n",
    "# Preprocess the new text\n",
    "cleaned_new_text = preprocess_text(new_text)\n",
    "\n",
    "# Vectorize the new text\n",
    "new_text_vectorized = tfidf.transform([cleaned_new_text])\n",
    "\n",
    "# Predict the sentiment\n",
    "predicted_sentiment = clf.predict(new_text_vectorized)\n",
    "\n",
    "# Print the predicted sentiment\n",
    "print(f\"Predicted Sentiment: {predicted_sentiment[0]}\")"
   ]
  },
  {
   "cell_type": "code",
   "execution_count": 45,
   "id": "c2a017e8-5e46-4b18-9b83-c40c77dd861f",
   "metadata": {},
   "outputs": [
    {
     "name": "stdout",
     "output_type": "stream",
     "text": [
      "0.13636363636363635\n"
     ]
    }
   ],
   "source": [
    "from textblob import TextBlob\n",
    "\n",
    "# Function to calculate sentiment polarity using TextBlob\n",
    "def get_sentiment_polarity(text):\n",
    "    return TextBlob(text).sentiment.polarity\n",
    "\n",
    "new_text = \"I don't like this new product.\"\n",
    "\n",
    "print(get_sentiment_polarity(new_text))\n"
   ]
  },
  {
   "cell_type": "markdown",
   "id": "d080ce8c-5373-48e9-b7a6-04b874f52077",
   "metadata": {},
   "source": [
    "### K-Fold Cross Validation"
   ]
  },
  {
   "cell_type": "code",
   "execution_count": 63,
   "id": "778ef37d-632c-45cb-bdc6-95fac01ca1cc",
   "metadata": {},
   "outputs": [
    {
     "name": "stdout",
     "output_type": "stream",
     "text": [
      "[0.74032403 0.74832483 0.75192519 0.74412441 0.74616192]\n"
     ]
    }
   ],
   "source": [
    "from sklearn.model_selection import cross_val_score\n",
    "\n",
    "# Perform 5-fold cross-validation\n",
    "cv_scores = cross_val_score(clf, X, y, cv=5)\n",
    "\n",
    "print(cv_scores)"
   ]
  },
  {
   "cell_type": "markdown",
   "id": "ee8969e5-73d2-496a-b331-c4d5a415f2d5",
   "metadata": {},
   "source": [
    "### Stratified K-Fold Cross Validation"
   ]
  },
  {
   "cell_type": "code",
   "execution_count": 66,
   "id": "e022a2e0-e3b6-43ef-9366-6c69537443b2",
   "metadata": {},
   "outputs": [
    {
     "name": "stdout",
     "output_type": "stream",
     "text": [
      "[0.74032403 0.74832483 0.75192519 0.74412441 0.74616192]\n"
     ]
    }
   ],
   "source": [
    "from sklearn.model_selection import StratifiedKFold, cross_val_score\n",
    "\n",
    "# Perform stratified 5-fold cross-validation\n",
    "skf = StratifiedKFold(n_splits=5)\n",
    "grid_search = GridSearchCV(clf, param_grid, cv=5)\n",
    "nested_scores = cross_val_score(grid_search, X, y, cv=5)\n",
    "\n",
    "print(cv_scores)"
   ]
  },
  {
   "cell_type": "markdown",
   "id": "f4437872-1cdb-41f1-9620-c18ce3de2e7a",
   "metadata": {},
   "source": [
    "### Leave-One-Out Cross Validation"
   ]
  },
  {
   "cell_type": "code",
   "execution_count": null,
   "id": "3f74b1c4-563e-4e8f-9ad4-e723d27a3410",
   "metadata": {},
   "outputs": [],
   "source": [
    "from sklearn.model_selection import LeaveOneOut, cross_val_score\n",
    "\n",
    "# Perform Leave-One-Out cross-validation\n",
    "loo = LeaveOneOut()\n",
    "cv_scores = cross_val_score(clf, X, y, cv=loo)\n",
    "\n",
    "print(cv_scores)"
   ]
  },
  {
   "cell_type": "markdown",
   "id": "bc604456-9058-4c18-a887-37f84a37b63b",
   "metadata": {},
   "source": [
    "### Nested Cross Validation"
   ]
  },
  {
   "cell_type": "code",
   "execution_count": null,
   "id": "896ea434-4300-4793-b8c6-21f5ce71fcb7",
   "metadata": {},
   "outputs": [],
   "source": [
    "from sklearn.model_selection import GridSearchCV, cross_val_score\n",
    "from sklearn.model_selection import KFold\n",
    "\n",
    "# Define a parameter grid for hyperparameter tuning\n",
    "param_grid = {'C': [0.1, 1, 10]}\n",
    "\n",
    "# Perform Grid Search with Nested Cross-Validation\n",
    "clf = LogisticRegression(max_iter=1000)\n",
    "grid_search = GridSearchCV(clf, param_grid, cv=5)\n",
    "nested_scores = cross_val_score(grid_search, X, y, cv=5)\n",
    "\n",
    "print(nested_scores)"
   ]
  },
  {
   "cell_type": "code",
   "execution_count": 20,
   "id": "b6eccfa2-6184-494e-ac98-b7dc3ab85141",
   "metadata": {},
   "outputs": [
    {
     "data": {
      "text/plain": [
       "<sklearn.metrics._plot.confusion_matrix.ConfusionMatrixDisplay at 0x15d2665d0>"
      ]
     },
     "execution_count": 20,
     "metadata": {},
     "output_type": "execute_result"
    },
    {
     "data": {
      "image/png": "[encoded data removed]",
      "text/plain": [
       "<Figure size 640x480 with 2 Axes>"
      ]
     },
     "metadata": {},
     "output_type": "display_data"
    }
   ],
   "source": [
    "from sklearn.metrics import confusion_matrix, ConfusionMatrixDisplay\n",
    "\n",
    "# Generate the confusion matrix\n",
    "cm = confusion_matrix(y_test, y_pred)\n",
    "\n",
    "# Display the confusion matrix\n",
    "disp = ConfusionMatrixDisplay(confusion_matrix=cm, display_labels=clf.classes_)\n",
    "disp.plot()"
   ]
  },
  {
   "cell_type": "code",
   "execution_count": 21,
   "id": "e722df0d-a5ba-490b-b106-218eb82b8b08",
   "metadata": {},
   "outputs": [
    {
     "data": {
      "image/png": "[encoded data removed]",
      "text/plain": [
       "<Figure size 640x480 with 1 Axes>"
      ]
     },
     "metadata": {},
     "output_type": "display_data"
    }
   ],
   "source": [
    "from sklearn.metrics import roc_curve, auc\n",
    "import matplotlib.pyplot as plt\n",
    "\n",
    "# Calculate the ROC curve\n",
    "fpr, tpr, _ = roc_curve(y_test, clf.predict_proba(X_test)[:, 1])\n",
    "roc_auc = auc(fpr, tpr)\n",
    "\n",
    "# Plot the ROC curve\n",
    "plt.figure()\n",
    "plt.plot(fpr, tpr, color='darkorange', lw=2, label=f'ROC curve (area = {roc_auc:.2f})')\n",
    "plt.plot([0, 1], [0, 1], color='navy', lw=2, linestyle='--')\n",
    "plt.xlim([0.0, 1.0])\n",
    "plt.ylim([0.0, 1.05])\n",
    "plt.xlabel('False Positive Rate')\n",
    "plt.ylabel('True Positive Rate')\n",
    "plt.title('Receiver Operating Characteristic')\n",
    "plt.legend(loc='lower right')\n",
    "plt.show()"
   ]
  },
  {
   "cell_type": "code",
   "execution_count": 22,
   "id": "7c7f564f-e6ca-4364-a61e-ec5723fcddcb",
   "metadata": {},
   "outputs": [
    {
     "data": {
      "image/png": "[encoded data removed]",
      "text/plain": [
       "<Figure size 640x480 with 1 Axes>"
      ]
     },
     "metadata": {},
     "output_type": "display_data"
    }
   ],
   "source": [
    "from sklearn.metrics import precision_recall_curve\n",
    "import matplotlib.pyplot as plt\n",
    "\n",
    "# Calculate precision and recall\n",
    "precision, recall, _ = precision_recall_curve(y_test, clf.predict_proba(X_test)[:, 1])\n",
    "\n",
    "# Plot the Precision-Recall curve\n",
    "plt.figure()\n",
    "plt.plot(recall, precision, lw=2, color='b')\n",
    "plt.xlabel('Recall')\n",
    "plt.ylabel('Precision')\n",
    "plt.title('Precision-Recall Curve')\n",
    "plt.show()"
   ]
  },
  {
   "cell_type": "code",
   "execution_count": 23,
   "id": "b0b9a3d9-12eb-4623-8c7d-2137c71920c2",
   "metadata": {},
   "outputs": [
    {
     "data": {
      "image/png": "[encoded data removed]",
      "text/plain": [
       "<Figure size 640x480 with 1 Axes>"
      ]
     },
     "metadata": {},
     "output_type": "display_data"
    }
   ],
   "source": [
    "from sklearn.model_selection import learning_curve\n",
    "import matplotlib.pyplot as plt\n",
    "import numpy as np\n",
    "\n",
    "# Generate learning curve data\n",
    "train_sizes, train_scores, test_scores = learning_curve(clf, X, y, cv=5, n_jobs=-1)\n",
    "\n",
    "# Calculate means and standard deviations\n",
    "train_scores_mean = np.mean(train_scores, axis=1)\n",
    "test_scores_mean = np.mean(test_scores, axis=1)\n",
    "\n",
    "# Plot the learning curve\n",
    "plt.figure()\n",
    "plt.plot(train_sizes, train_scores_mean, 'o-', color='r', label='Training Score')\n",
    "plt.plot(train_sizes, test_scores_mean, 'o-', color='g', label='Cross-Validation Score')\n",
    "plt.xlabel('Training Set Size')\n",
    "plt.ylabel('Score')\n",
    "plt.title('Learning Curve')\n",
    "plt.legend(loc='best')\n",
    "plt.show()"
   ]
  },
  {
   "cell_type": "code",
   "execution_count": 54,
   "id": "c6f5c485-dbc8-4a8e-94f8-73be00be5e4f",
   "metadata": {},
   "outputs": [],
   "source": [
    "# Split the data\n",
    "X_train, X_test, y_train, y_test = train_test_split(X, y, test_size=0.2, random_state=42)\n",
    "\n",
    "# Train the classifier\n",
    "clf = LogisticRegression(max_iter=1000)\n",
    "clf.fit(X_train, y_train)\n",
    "\n",
    "# Evaluate the model\n",
    "ypred = clf.predict(X_test)"
   ]
  },
  {
   "cell_type": "code",
   "execution_count": 51,
   "id": "47dba2c7-aa36-4bc5-ac9e-daf81cefef55",
   "metadata": {},
   "outputs": [
    {
     "data": {
      "text/plain": [
       "33965    1\n",
       "22853    1\n",
       "19448    0\n",
       "9732     1\n",
       "7129     1\n",
       "        ..\n",
       "41962    1\n",
       "45550    0\n",
       "99653    0\n",
       "13568    0\n",
       "92717    1\n",
       "Name: Sentiment, Length: 19998, dtype: int64"
      ]
     },
     "execution_count": 51,
     "metadata": {},
     "output_type": "execute_result"
    }
   ],
   "source": [
    "y_test"
   ]
  },
  {
   "cell_type": "code",
   "execution_count": 55,
   "id": "60f7dd1d-5b2f-4387-9a5b-1ee50f17f41a",
   "metadata": {},
   "outputs": [
    {
     "data": {
      "text/plain": [
       "<sklearn.metrics._plot.confusion_matrix.ConfusionMatrixDisplay at 0x16722a750>"
      ]
     },
     "execution_count": 55,
     "metadata": {},
     "output_type": "execute_result"
    },
    {
     "data": {
      "image/png": "[encoded data removed]",
      "text/plain": [
       "<Figure size 640x480 with 2 Axes>"
      ]
     },
     "metadata": {},
     "output_type": "display_data"
    }
   ],
   "source": [
    "from sklearn import metrics\n",
    "\n",
    "metrics.ConfusionMatrixDisplay.from_predictions(y_test, ypred)"
   ]
  },
  {
   "cell_type": "code",
   "execution_count": 56,
   "id": "a4d5d522-0f89-40eb-aeae-ee99160b284c",
   "metadata": {},
   "outputs": [
    {
     "data": {
      "text/plain": [
       "0.7878044654939108"
      ]
     },
     "execution_count": 56,
     "metadata": {},
     "output_type": "execute_result"
    }
   ],
   "source": [
    "metrics.f1_score(y_test, ypred)"
   ]
  },
  {
   "cell_type": "code",
   "execution_count": 57,
   "id": "4d6a6eaf-6f17-4471-a1e3-aa456e735546",
   "metadata": {},
   "outputs": [
    {
     "data": {
      "text/plain": [
       "array([1, 1, 0, ..., 1, 1, 1])"
      ]
     },
     "execution_count": 57,
     "metadata": {},
     "output_type": "execute_result"
    }
   ],
   "source": [
    "ypred"
   ]
  },
  {
   "cell_type": "code",
   "execution_count": 59,
   "id": "2d6be7a1-edd8-4c08-94f8-4efc25f6adfd",
   "metadata": {},
   "outputs": [],
   "source": [
    "probs = clf.predict_proba(X_test)"
   ]
  },
  {
   "cell_type": "code",
   "execution_count": 60,
   "id": "4a3e6035-368a-4116-bea3-b3a3c421fe2a",
   "metadata": {},
   "outputs": [],
   "source": [
    "probs = probs[:,1]"
   ]
  },
  {
   "cell_type": "code",
   "execution_count": 61,
   "id": "32453ef4-1561-4200-b155-5f5f12353fc5",
   "metadata": {},
   "outputs": [],
   "source": [
    "# define thresholds\n",
    "from numpy import arange, argmax\n",
    "from sklearn.metrics import roc_curve"
   ]
  },
  {
   "cell_type": "code",
   "execution_count": 62,
   "id": "31f8224c-a40c-4a0d-941b-474d2d6e3907",
   "metadata": {},
   "outputs": [],
   "source": [
    "fpr, tpr, thresh = roc_curve(y_test, probs)"
   ]
  },
  {
   "cell_type": "code",
   "execution_count": 63,
   "id": "26c1d312-236e-4cc5-8644-5e3f8e5c3631",
   "metadata": {},
   "outputs": [],
   "source": [
    "J = tpr - fpr"
   ]
  },
  {
   "cell_type": "code",
   "execution_count": 64,
   "id": "0fa517e1-f844-48a6-92aa-9bc9d85f7974",
   "metadata": {},
   "outputs": [
    {
     "data": {
      "text/plain": [
       "6845"
      ]
     },
     "execution_count": 64,
     "metadata": {},
     "output_type": "execute_result"
    }
   ],
   "source": [
    "len(J)"
   ]
  },
  {
   "cell_type": "code",
   "execution_count": 65,
   "id": "d6e64a76-ccdd-4a27-be87-ae7a1885a729",
   "metadata": {},
   "outputs": [],
   "source": [
    "ix = argmax(J)\n",
    "best_threshold = thresh[ix]"
   ]
  },
  {
   "cell_type": "code",
   "execution_count": 66,
   "id": "5cefc056-7db1-420d-b6ee-d655175b40c7",
   "metadata": {},
   "outputs": [
    {
     "data": {
      "text/plain": [
       "0.5997780184102154"
      ]
     },
     "execution_count": 66,
     "metadata": {},
     "output_type": "execute_result"
    }
   ],
   "source": [
    "best_threshold"
   ]
  },
  {
   "cell_type": "code",
   "execution_count": 67,
   "id": "09bebc62-33d8-4246-8815-cac0d6930bc1",
   "metadata": {},
   "outputs": [],
   "source": [
    "y_pred_with_threshold = (probs >= best_threshold).astype(int)"
   ]
  },
  {
   "cell_type": "code",
   "execution_count": 68,
   "id": "1fda99ae-2e9b-4419-ba4b-8df61e4c90f5",
   "metadata": {},
   "outputs": [
    {
     "data": {
      "text/plain": [
       "<sklearn.metrics._plot.confusion_matrix.ConfusionMatrixDisplay at 0x1646f9250>"
      ]
     },
     "execution_count": 68,
     "metadata": {},
     "output_type": "execute_result"
    },
    {
     "data": {
      "image/png": "[encoded data removed]",
      "text/plain": [
       "<Figure size 640x480 with 2 Axes>"
      ]
     },
     "metadata": {},
     "output_type": "display_data"
    }
   ],
   "source": [
    "metrics.ConfusionMatrixDisplay.from_predictions(y_test, y_pred_with_threshold)"
   ]
  },
  {
   "cell_type": "code",
   "execution_count": 69,
   "id": "fadf2ce9-0195-4085-bef5-559747ef61d0",
   "metadata": {},
   "outputs": [
    {
     "data": {
      "text/plain": [
       "0.43"
      ]
     },
     "execution_count": 69,
     "metadata": {},
     "output_type": "execute_result"
    }
   ],
   "source": [
    "# optimizing for f1 score\n",
    "thresholds = arange(0,1,0.01)\n",
    "scores = [metrics.f1_score(y_test, (probs>=t).astype(int)) for t in thresholds]\n",
    "ix = argmax(scores)\n",
    "best_threshold_f1 = thresholds[ix]\n",
    "best_threshold_f1"
   ]
  },
  {
   "cell_type": "code",
   "execution_count": 70,
   "id": "a72b2d8a-0ea5-4b39-8152-9cb85f33db43",
   "metadata": {},
   "outputs": [],
   "source": [
    "y_pred_with_threshold_f1 = (probs >= best_threshold_f1).astype(int)"
   ]
  },
  {
   "cell_type": "code",
   "execution_count": 71,
   "id": "349d93ad-b2bb-4a7a-93a5-0dd86fe25613",
   "metadata": {},
   "outputs": [
    {
     "data": {
      "text/plain": [
       "<sklearn.metrics._plot.confusion_matrix.ConfusionMatrixDisplay at 0x1671f4190>"
      ]
     },
     "execution_count": 71,
     "metadata": {},
     "output_type": "execute_result"
    },
    {
     "data": {
      "image/png": "[encoded data removed]",
      "text/plain": [
       "<Figure size 640x480 with 2 Axes>"
      ]
     },
     "metadata": {},
     "output_type": "display_data"
    }
   ],
   "source": [
    "metrics.ConfusionMatrixDisplay.from_predictions(y_test, y_pred_with_threshold_f1)"
   ]
  },
  {
   "cell_type": "code",
   "execution_count": 73,
   "id": "246dced4-c212-45a3-bce2-f66633fcf4a1",
   "metadata": {},
   "outputs": [
    {
     "name": "stdout",
     "output_type": "stream",
     "text": [
      "<function f1_score at 0x15b9f4220> 33965    1\n",
      "22853    1\n",
      "19448    0\n",
      "9732     1\n",
      "7129     1\n",
      "        ..\n",
      "41962    1\n",
      "45550    0\n",
      "99653    0\n",
      "13568    0\n",
      "92717    1\n",
      "Name: Sentiment, Length: 19998, dtype: int64 [1 1 0 ... 1 1 1]\n"
     ]
    }
   ],
   "source": [
    "print (metrics.f1_score, y_test, (probs>=best_threshold_f1).astype(int))"
   ]
  },
  {
   "cell_type": "code",
   "execution_count": null,
   "id": "3ccbfccd-21fd-49b8-917c-6fb3639b8eaa",
   "metadata": {},
   "outputs": [],
   "source": []
  }
 ],
 "metadata": {
  "kernelspec": {
   "display_name": "Python 3 (ipykernel)",
   "language": "python",
   "name": "python3"
  },
  "language_info": {
   "codemirror_mode": {
    "name": "ipython",
    "version": 3
   },
   "file_extension": ".py",
   "mimetype": "text/x-python",
   "name": "python",
   "nbconvert_exporter": "python",
   "pygments_lexer": "ipython3",
   "version": "3.11.7"
  }
 },
 "nbformat": 4,
 "nbformat_minor": 5
}
